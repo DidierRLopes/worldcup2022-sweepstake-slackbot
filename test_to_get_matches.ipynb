{
 "cells": [
  {
   "cell_type": "code",
   "execution_count": null,
   "id": "cb2e650e",
   "metadata": {},
   "outputs": [],
   "source": [
    "import os\n",
    "import ast\n",
    "import requests\n",
    "from datetime import datetime, timedelta\n",
    "\n",
    "SECRET_EMAIL = os.environ.get(\"SECRET_EMAIL\") or \"YOUR EMAIL\"\n",
    "SECRET_PASSWORD = os.environ.get(\"SECRET_PASSWORD\") or \"YOUR PASSWORD\""
   ]
  },
  {
   "cell_type": "code",
   "execution_count": null,
   "id": "42135222",
   "metadata": {},
   "outputs": [],
   "source": [
    "response = requests.post('http://api.cup2022.ir/api/v1/user/login', \n",
    "                json={\n",
    "                  \"email\": SECRET_EMAIL,\n",
    "                  \"password\": SECRET_PASSWORD\n",
    "                }\n",
    "            )\n",
    "response"
   ]
  },
  {
   "cell_type": "code",
   "execution_count": null,
   "id": "2e33506d",
   "metadata": {},
   "outputs": [],
   "source": [
    "ast.literal_eval(response.text)"
   ]
  },
  {
   "cell_type": "code",
   "execution_count": null,
   "id": "b7be288b",
   "metadata": {},
   "outputs": [],
   "source": [
    "class BearerAuth(requests.auth.AuthBase):\n",
    "    def __init__(self, token):\n",
    "        self.token = token\n",
    "    def __call__(self, r):\n",
    "        r.headers[\"authorization\"] = \"Bearer \" + self.token\n",
    "        r.headers[\"Content-Type\"] = \"application/json\"\n",
    "        return r\n",
    "    \n",
    "response = requests.get('http://api.cup2022.ir/api/v1/match', auth=BearerAuth(ast.literal_eval(response.text)[\"data\"][\"token\"]))\n",
    "\n",
    "results = ast.literal_eval(response.text)[\"data\"]"
   ]
  },
  {
   "cell_type": "code",
   "execution_count": null,
   "id": "3c0728c9",
   "metadata": {},
   "outputs": [],
   "source": [
    "def ss(key):\n",
    "    sweepstake = {\n",
    "        \"Germany\": \"Diogo\",\n",
    "        \"Poland\": \"Minh\",\n",
    "        \"South Korea\": \"Didier\",\n",
    "        \"Australia\": \"Sri\",\n",
    "        \"France\": \"Jose\",\n",
    "        \"Senegal\": \"Fabian\",\n",
    "        \"Mexico\": \"James Simmons\",\n",
    "        \"Nederlands\": \"James\",\n",
    "        \"Tunisia\": \"Andrew\",\n",
    "        \"Henrique\": \"Croatia\",\n",
    "        \"Uruguay\": \"Cristi\",\n",
    "        \"Brazil\": \"Rita\",\n",
    "        \"Argentina\": \"Colin\",\n",
    "        \"Canada\": \"Darren\",\n",
    "        \"Ghana\": \"Chavi\",\n",
    "        \"Ecuador\": \"Luqman\",\n",
    "        \"Saudi Arabia\": \"Theodore\",\n",
    "        \"Denmark\": \"Martin\",\n",
    "        \"Morocco\": \"Juan\",\n",
    "        \"England\": \"Jeroen\",\n",
    "        \"Iran\": \"Meghan\",\n",
    "    }\n",
    "\n",
    "    for k in sweepstake:\n",
    "        sweepstake[k] = f\"{k} ({sweepstake[k]})\"\n",
    "\n",
    "    return sweepstake.get(key, key)"
   ]
  },
  {
   "cell_type": "code",
   "execution_count": null,
   "id": "0c6e58ae",
   "metadata": {
    "scrolled": false
   },
   "outputs": [],
   "source": [
    "today = datetime.now()\n",
    "todaydate = today.strftime(\"%m/%-d/%Y\")\n",
    "\n",
    "tomorrow = today + timedelta(days=1)\n",
    "tomorrowdate = tomorrow.strftime(\"%m/%-d/%Y\")\n",
    "\n",
    "resultstoday = list()\n",
    "gamestomorrow = list()\n",
    "\n",
    "for result in results:\n",
    "    if todaydate == result[\"local_date\"].split(\" \")[0]:\n",
    "        home = ss(result['home_team_en'])\n",
    "        if result[\"finished\"] == \"TRUE\":\n",
    "            resultstoday.append(f\"{home}{(27-len(home))* ' '} {result['home_score']} - {result['away_score']} {ss(result['away_team_en'])}\")\n",
    "        else:\n",
    "            resultstoday.append(f\"{home}{(27-len(home))* ' '} - {ss(result['away_team_en'])}\")\n",
    "    \n",
    "    elif tomorrowdate == result[\"local_date\"].split(\" \")[0]:\n",
    "        home = ss(result['home_team_en'])\n",
    "        gamestomorrow.append(f\"{home}{(27-len(home))* ' '} - {ss(result['away_team_en'])}\")"
   ]
  },
  {
   "cell_type": "code",
   "execution_count": null,
   "id": "49bf2aad",
   "metadata": {},
   "outputs": [],
   "source": [
    "results = \"\"\n",
    "if resultstoday:\n",
    "    results += f\"_RESULTS TODAY - {todaydate}_\\n\"\n",
    "    for val in resultstoday:\n",
    "        results += \"\\t\\t\" + val + \"\\n\"\n",
    "else:\n",
    "    results += f\"_NO RESULTS TODAY - {todaydate}_\\n\"\n",
    "\n",
    "if gamestomorrow:\n",
    "    results += f\"\\n\\n_MATCHES TOMORROW - {tomorrowdate}_\\n\"\n",
    "    for val in gamestomorrow:\n",
    "        results += \"\\t\\t\" + val + \"\\n\"\n",
    "else:\n",
    "    results += f\"_NO MATCHES TOMORROW - {tomorrowdate}_\\n\"\n",
    "results += \"\\n\"\n",
    "\n",
    "print(results)"
   ]
  },
  {
   "cell_type": "code",
   "execution_count": null,
   "id": "930e44f0",
   "metadata": {},
   "outputs": [],
   "source": []
  }
 ],
 "metadata": {
  "kernelspec": {
   "display_name": "Python 3.8.8",
   "language": "python",
   "name": "python3"
  },
  "language_info": {
   "codemirror_mode": {
    "name": "ipython",
    "version": 3
   },
   "file_extension": ".py",
   "mimetype": "text/x-python",
   "name": "python",
   "nbconvert_exporter": "python",
   "pygments_lexer": "ipython3",
   "version": "3.8.8"
  },
  "vscode": {
   "interpreter": {
    "hash": "638555fedeb9c15daab716bf915f8f89115eb3d184ce526f01a79c9b82e117f1"
   }
  }
 },
 "nbformat": 4,
 "nbformat_minor": 5
}
